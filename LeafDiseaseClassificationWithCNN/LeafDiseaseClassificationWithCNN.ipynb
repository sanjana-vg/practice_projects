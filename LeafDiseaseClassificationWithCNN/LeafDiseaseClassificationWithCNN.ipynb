{
 "cells": [
  {
   "cell_type": "code",
   "execution_count": 1,
   "metadata": {
    "_cell_guid": "b1076dfc-b9ad-4769-8c92-a6c4dae69d19",
    "_uuid": "8f2839f25d086af736a60e9eeb907d3b93b6e0e5",
    "collapsed": true
   },
   "outputs": [],
   "source": [
    "import numpy as np\n",
    "import tensorflow as tf\n",
    "from tensorflow import keras\n",
    "from keras.preprocessing import image\n",
    "from sklearn.model_selection import train_test_split\n",
    "import os"
   ]
  },
  {
   "cell_type": "code",
   "execution_count": 2,
   "metadata": {
    "collapsed": true
   },
   "outputs": [],
   "source": [
    "'''\n",
    "Loads Image data, resizes and normalizes them and returns as numpy arrays\n",
    "params:\n",
    "    base_path - path to the folder\n",
    "    num_files - number of files to be loaded\n",
    "    categories - names of sub-folders\n",
    "returns:\n",
    "    image_data and category_id as numpy arrays\n",
    "'''\n",
    "def readTextFromFiles(base_path, num_files, categories):\n",
    "    c = len(categories)\n",
    "    num_cat = int(num_files / c)\n",
    "    X = []\n",
    "    Y = []\n",
    "    \n",
    "    for (cat_num, category) in enumerate(categories):    \n",
    "        i = 0\n",
    "        file_path = base_path + category + '/'\n",
    "        files = os.listdir(file_path)\n",
    "        for file in files:\n",
    "            if i >= num_cat:\n",
    "                break\n",
    "            img = image.load_img(file_path +file, target_size=(512, 512, 3), color_mode = 'rgb')\n",
    "            X.append(image.img_to_array(img) / 255)\n",
    "            Y.append(cat_num)\n",
    "            i+=1\n",
    "        \n",
    "    return np.array(X), np.array(Y)"
   ]
  },
  {
   "cell_type": "code",
   "execution_count": 3,
   "metadata": {
    "collapsed": false
   },
   "outputs": [
    {
     "name": "stdout",
     "output_type": "stream",
     "text": [
      "(240, 512, 512, 3)\n",
      "(240,)\n"
     ]
    }
   ],
   "source": [
    "# Loads dataset of images of Rice leaves affected by 3 diseases\n",
    "categories = ('blast', 'blight', 'tungro')\n",
    "X, Y = readTextFromFiles('/kaggle/input/leaf-rice-disease-indonesia/', 240, categories)\n",
    "print(X.shape)\n",
    "print(Y.shape)"
   ]
  },
  {
   "cell_type": "code",
   "execution_count": 4,
   "metadata": {
    "collapsed": true
   },
   "outputs": [],
   "source": [
    "'''\n",
    "Converts category indices to one-hot vectors\n",
    "params:\n",
    "    Y - arrays of categories\n",
    "    num_cat - number of categories\n",
    "returns:\n",
    "    one hot representation of Y\n",
    "'''\n",
    "def convert_categories_to_onehot(Y, num_cat):\n",
    "    Y_one_hot = np.eye(num_cat)[np.squeeze(Y).astype(int)]\n",
    "    return Y_one_hot"
   ]
  },
  {
   "cell_type": "code",
   "execution_count": 5,
   "metadata": {
    "collapsed": false
   },
   "outputs": [
    {
     "name": "stdout",
     "output_type": "stream",
     "text": [
      "(240, 3)\n"
     ]
    }
   ],
   "source": [
    "# Converts category indices 0,1,2 into one hot vectors\n",
    "Y_oh = convert_categories_to_onehot(Y, len(categories))\n",
    "print(Y_oh.shape)"
   ]
  },
  {
   "cell_type": "code",
   "execution_count": 6,
   "metadata": {
    "collapsed": false
   },
   "outputs": [
    {
     "name": "stdout",
     "output_type": "stream",
     "text": [
      "(192, 512, 512, 3)\n",
      "(192, 3)\n",
      "(24, 512, 512, 3)\n",
      "(24, 3)\n",
      "(24, 512, 512, 3)\n",
      "(24, 3)\n"
     ]
    }
   ],
   "source": [
    "# Splits the dataset into training set, validation set and test set\n",
    "X_train, X_test, Y_train, Y_test = train_test_split(X, Y_oh, test_size=0.2)\n",
    "print(X_train.shape)\n",
    "print(Y_train.shape)\n",
    "val = int(X_test.shape[0]/2)\n",
    "X_val = X_test[0:val,:,:,:]\n",
    "Y_val = Y_test[0:val,:]\n",
    "X_test = X_test[val:,:,:,:]\n",
    "Y_test = Y_test[val:,:]\n",
    "print(X_val.shape)\n",
    "print(Y_val.shape)\n",
    "print(X_test.shape)\n",
    "print(Y_test.shape)"
   ]
  },
  {
   "cell_type": "code",
   "execution_count": 21,
   "metadata": {
    "collapsed": true
   },
   "outputs": [],
   "source": [
    "# Builds a Convolutional Neural Network Model\n",
    "def get_model():\n",
    "    model = tf.keras.Sequential()\n",
    "    model.add(keras.layers.InputLayer(input_shape=(512,512,3)))\n",
    "    \n",
    "    # Data Augmentation to reduce overfitting to the training set\n",
    "    model.add(keras.layers.experimental.preprocessing.RandomFlip('horizontal'))\n",
    "    model.add(keras.layers.experimental.preprocessing.RandomRotation(0.1))\n",
    "    \n",
    "    # Convolutional Layer 1\n",
    "    model.add(keras.layers.Conv2D(32, kernel_size=(3,3), strides=(2,2)))\n",
    "    # Batch Normalization to speed up learning\n",
    "    model.add(keras.layers.BatchNormalization())\n",
    "    model.add(keras.layers.ReLU())\n",
    "    \n",
    "    # Convolutional Layer 2\n",
    "    model.add(keras.layers.Conv2D(64, kernel_size=(3,3), strides=(2,2)))\n",
    "    model.add(keras.layers.BatchNormalization())\n",
    "    model.add(keras.layers.ReLU())\n",
    "    \n",
    "    # Max Pooling Layer 1\n",
    "    model.add(keras.layers.MaxPooling2D(pool_size=(3,3)))\n",
    "    # Dropout layer 1 for regularization (to reduce overfitting)\n",
    "    model.add(keras.layers.Dropout(0.15))\n",
    "    \n",
    "    # Convolutional Layer 3\n",
    "    model.add(keras.layers.Conv2D(128, kernel_size=(3,3), strides=(2,2)))\n",
    "    model.add(keras.layers.BatchNormalization())\n",
    "    model.add(keras.layers.ReLU())\n",
    "    \n",
    "    # Max Pooling Layer 2\n",
    "    model.add(keras.layers.MaxPooling2D(pool_size=(3,3)))\n",
    "    # Dropout Layer 2\n",
    "    model.add(keras.layers.Dropout(0.15))\n",
    "    \n",
    "    # Fully connected layers\n",
    "    model.add(keras.layers.Flatten())\n",
    "    model.add(keras.layers.Dense(256, activation='relu'))\n",
    "    model.add(keras.layers.Dense(3, activation='softmax'))\n",
    "    \n",
    "    return model"
   ]
  },
  {
   "cell_type": "code",
   "execution_count": 23,
   "metadata": {
    "collapsed": true
   },
   "outputs": [],
   "source": [
    "model = get_model()\n",
    "\n",
    "# Compiles the model with Adam Optimizer\n",
    "model.compile(optimizer=keras.optimizers.Adam(learning_rate=0.0003), loss = 'categorical_crossentropy', metrics=['accuracy'])"
   ]
  },
  {
   "cell_type": "code",
   "execution_count": 24,
   "metadata": {
    "collapsed": false
   },
   "outputs": [
    {
     "name": "stdout",
     "output_type": "stream",
     "text": [
      "Model: \"sequential_4\"\n",
      "_________________________________________________________________\n",
      "Layer (type)                 Output Shape              Param #   \n",
      "=================================================================\n",
      "random_flip_3 (RandomFlip)   (None, 512, 512, 3)       0         \n",
      "_________________________________________________________________\n",
      "random_rotation_3 (RandomRot (None, 512, 512, 3)       0         \n",
      "_________________________________________________________________\n",
      "conv2d_12 (Conv2D)           (None, 255, 255, 32)      896       \n",
      "_________________________________________________________________\n",
      "batch_normalization_12 (Batc (None, 255, 255, 32)      128       \n",
      "_________________________________________________________________\n",
      "re_lu_12 (ReLU)              (None, 255, 255, 32)      0         \n",
      "_________________________________________________________________\n",
      "conv2d_13 (Conv2D)           (None, 127, 127, 64)      18496     \n",
      "_________________________________________________________________\n",
      "batch_normalization_13 (Batc (None, 127, 127, 64)      256       \n",
      "_________________________________________________________________\n",
      "re_lu_13 (ReLU)              (None, 127, 127, 64)      0         \n",
      "_________________________________________________________________\n",
      "max_pooling2d_8 (MaxPooling2 (None, 42, 42, 64)        0         \n",
      "_________________________________________________________________\n",
      "dropout_8 (Dropout)          (None, 42, 42, 64)        0         \n",
      "_________________________________________________________________\n",
      "conv2d_14 (Conv2D)           (None, 20, 20, 128)       73856     \n",
      "_________________________________________________________________\n",
      "batch_normalization_14 (Batc (None, 20, 20, 128)       512       \n",
      "_________________________________________________________________\n",
      "re_lu_14 (ReLU)              (None, 20, 20, 128)       0         \n",
      "_________________________________________________________________\n",
      "max_pooling2d_9 (MaxPooling2 (None, 6, 6, 128)         0         \n",
      "_________________________________________________________________\n",
      "dropout_9 (Dropout)          (None, 6, 6, 128)         0         \n",
      "_________________________________________________________________\n",
      "flatten_4 (Flatten)          (None, 4608)              0         \n",
      "_________________________________________________________________\n",
      "dense_8 (Dense)              (None, 256)               1179904   \n",
      "_________________________________________________________________\n",
      "dense_9 (Dense)              (None, 3)                 771       \n",
      "=================================================================\n",
      "Total params: 1,274,819\n",
      "Trainable params: 1,274,371\n",
      "Non-trainable params: 448\n",
      "_________________________________________________________________\n"
     ]
    }
   ],
   "source": [
    "model.summary()"
   ]
  },
  {
   "cell_type": "code",
   "execution_count": 25,
   "metadata": {
    "collapsed": false
   },
   "outputs": [
    {
     "name": "stdout",
     "output_type": "stream",
     "text": [
      "Epoch 1/20\n",
      "24/24 [==============================] - 18s 730ms/step - loss: 2.8939 - accuracy: 0.4726 - val_loss: 1.0655 - val_accuracy: 0.4167\n",
      "Epoch 2/20\n",
      "24/24 [==============================] - 17s 709ms/step - loss: 0.8938 - accuracy: 0.5803 - val_loss: 1.0580 - val_accuracy: 0.4167\n",
      "Epoch 3/20\n",
      "24/24 [==============================] - 17s 692ms/step - loss: 0.5076 - accuracy: 0.8077 - val_loss: 1.0755 - val_accuracy: 0.4167\n",
      "Epoch 4/20\n",
      "24/24 [==============================] - 17s 714ms/step - loss: 0.4893 - accuracy: 0.7938 - val_loss: 1.1747 - val_accuracy: 0.4167\n",
      "Epoch 5/20\n",
      "24/24 [==============================] - 17s 694ms/step - loss: 0.4179 - accuracy: 0.7787 - val_loss: 1.1785 - val_accuracy: 0.4167\n",
      "Epoch 6/20\n",
      "24/24 [==============================] - 17s 700ms/step - loss: 0.3340 - accuracy: 0.8520 - val_loss: 1.1908 - val_accuracy: 0.4167\n",
      "Epoch 7/20\n",
      "24/24 [==============================] - 16s 685ms/step - loss: 0.2775 - accuracy: 0.8508 - val_loss: 1.1280 - val_accuracy: 0.4167\n",
      "Epoch 8/20\n",
      "24/24 [==============================] - 17s 699ms/step - loss: 0.3394 - accuracy: 0.8919 - val_loss: 0.9666 - val_accuracy: 0.5000\n",
      "Epoch 9/20\n",
      "24/24 [==============================] - 17s 690ms/step - loss: 0.2917 - accuracy: 0.8672 - val_loss: 0.9704 - val_accuracy: 0.6250\n",
      "Epoch 10/20\n",
      "24/24 [==============================] - 17s 706ms/step - loss: 0.2178 - accuracy: 0.9287 - val_loss: 1.1956 - val_accuracy: 0.4167\n",
      "Epoch 11/20\n",
      "24/24 [==============================] - 17s 692ms/step - loss: 0.3424 - accuracy: 0.8596 - val_loss: 0.9541 - val_accuracy: 0.4167\n",
      "Epoch 12/20\n",
      "24/24 [==============================] - 17s 703ms/step - loss: 0.1998 - accuracy: 0.9089 - val_loss: 0.8508 - val_accuracy: 0.5833\n",
      "Epoch 13/20\n",
      "24/24 [==============================] - 16s 686ms/step - loss: 0.1719 - accuracy: 0.9359 - val_loss: 0.7063 - val_accuracy: 0.6667\n",
      "Epoch 14/20\n",
      "24/24 [==============================] - 17s 695ms/step - loss: 0.1139 - accuracy: 0.9653 - val_loss: 0.6448 - val_accuracy: 0.7500\n",
      "Epoch 15/20\n",
      "24/24 [==============================] - 17s 691ms/step - loss: 0.1766 - accuracy: 0.9306 - val_loss: 0.4398 - val_accuracy: 0.9583\n",
      "Epoch 16/20\n",
      "24/24 [==============================] - 17s 699ms/step - loss: 0.1761 - accuracy: 0.9570 - val_loss: 0.4379 - val_accuracy: 0.7917\n",
      "Epoch 17/20\n",
      "24/24 [==============================] - 17s 689ms/step - loss: 0.2566 - accuracy: 0.8886 - val_loss: 0.4182 - val_accuracy: 0.8333\n",
      "Epoch 18/20\n",
      "24/24 [==============================] - 17s 699ms/step - loss: 0.1635 - accuracy: 0.9382 - val_loss: 0.3815 - val_accuracy: 0.7500\n",
      "Epoch 19/20\n",
      "24/24 [==============================] - 16s 688ms/step - loss: 0.1502 - accuracy: 0.9416 - val_loss: 0.4818 - val_accuracy: 0.7917\n",
      "Epoch 20/20\n",
      "24/24 [==============================] - 17s 702ms/step - loss: 0.1157 - accuracy: 0.9658 - val_loss: 0.3120 - val_accuracy: 0.9583\n"
     ]
    },
    {
     "data": {
      "text/plain": [
       "<tensorflow.python.keras.callbacks.History at 0x7f7b2c16f110>"
      ]
     },
     "execution_count": 25,
     "metadata": {},
     "output_type": "execute_result"
    }
   ],
   "source": [
    "# Training : Fits the CNN model to the training dataset using Mini-batch gradient descent\n",
    "model.fit(X_train, Y_train, epochs=20, validation_data = (X_val, Y_val), batch_size=8)"
   ]
  },
  {
   "cell_type": "code",
   "execution_count": 26,
   "metadata": {
    "collapsed": false
   },
   "outputs": [
    {
     "name": "stdout",
     "output_type": "stream",
     "text": [
      "1/1 [==============================] - 1s 633ms/step - loss: 0.3358 - accuracy: 0.8750\n"
     ]
    },
    {
     "data": {
      "text/plain": [
       "[0.33578142523765564, 0.875]"
      ]
     },
     "execution_count": 26,
     "metadata": {},
     "output_type": "execute_result"
    }
   ],
   "source": [
    "# Evaluates the trained model on the Test dataset\n",
    "model.evaluate(X_test, Y_test)"
   ]
  },
  {
   "cell_type": "code",
   "execution_count": null,
   "metadata": {
    "collapsed": true
   },
   "outputs": [],
   "source": []
  },
  {
   "cell_type": "markdown",
   "metadata": {},
   "source": [
    " "
   ]
  },
  {
   "cell_type": "markdown",
   "metadata": {},
   "source": [
    "Acknowledgement:\n",
    "\n",
    "The dataset of Labeled images of Rice Leaves affected by three diseases used in this notebook is from\n",
    "https://www.kaggle.com/tedisetiady/leaf-rice-disease-indonesia"
   ]
  },
  {
   "cell_type": "code",
   "execution_count": null,
   "metadata": {
    "collapsed": true
   },
   "outputs": [],
   "source": []
  },
  {
   "cell_type": "code",
   "execution_count": null,
   "metadata": {
    "collapsed": true
   },
   "outputs": [],
   "source": []
  }
 ],
 "metadata": {
  "anaconda-cloud": {},
  "kernelspec": {
   "display_name": "Python [default]",
   "language": "python",
   "name": "python3"
  },
  "language_info": {
   "codemirror_mode": {
    "name": "ipython",
    "version": 3
   },
   "file_extension": ".py",
   "mimetype": "text/x-python",
   "name": "python",
   "nbconvert_exporter": "python",
   "pygments_lexer": "ipython3",
   "version": "3.5.2"
  }
 },
 "nbformat": 4,
 "nbformat_minor": 4
}
